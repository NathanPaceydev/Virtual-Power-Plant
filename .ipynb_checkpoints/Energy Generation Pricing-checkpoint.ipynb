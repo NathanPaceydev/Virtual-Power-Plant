{
 "cells": [
  {
   "cell_type": "markdown",
   "id": "8b877492",
   "metadata": {},
   "source": [
    "# Ontario Historical and Live Energy Generations Pricing\n",
    "## Based on IESO data\n",
    "Need to get a sense of the historical Energy pricing data and figure out methods of controlling energy arbitrage based on live data. Also can produce simulations based on historical data."
   ]
  },
  {
   "cell_type": "markdown",
   "id": "84ab1bca",
   "metadata": {},
   "source": [
    "Start with the IESO Hourly Pricing data: https://www.ieso.ca/Power-Data/Data-Directory"
   ]
  },
  {
   "cell_type": "code",
   "execution_count": null,
   "id": "720a1259",
   "metadata": {},
   "outputs": [],
   "source": []
  }
 ],
 "metadata": {
  "kernelspec": {
   "display_name": "Python 3 (ipykernel)",
   "language": "python",
   "name": "python3"
  },
  "language_info": {
   "codemirror_mode": {
    "name": "ipython",
    "version": 3
   },
   "file_extension": ".py",
   "mimetype": "text/x-python",
   "name": "python",
   "nbconvert_exporter": "python",
   "pygments_lexer": "ipython3",
   "version": "3.9.7"
  }
 },
 "nbformat": 4,
 "nbformat_minor": 5
}
